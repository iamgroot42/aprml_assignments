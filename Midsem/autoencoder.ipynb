{
 "cells": [
  {
   "cell_type": "code",
   "execution_count": null,
   "metadata": {
    "collapsed": true
   },
   "outputs": [],
   "source": [
    "import matplotlib\n",
    "\n",
    "import numpy as np\n",
    "import keras\n",
    "import tensorflow as tf\n",
    "import itertools    \n",
    "\n",
    "from keras.layers.advanced_activations import LeakyReLU, PReLU, ELU\n",
    "from keras.layers import Conv2D, MaxPooling2D, Flatten, Input, Dense, Dropout, Reshape, UpSampling2D\n",
    "from keras.layers.normalization import BatchNormalization\n",
    "from keras.regularizers import l1,l2\n",
    "\n",
    "from keras.models import Model\n",
    "from keras.callbacks import ModelCheckpoint\n",
    "\n",
    "from sklearn.metrics import classification_report, confusion_matrix\n",
    "\n",
    "import matplotlib.pyplot as plt\n",
    "\n",
    "from load_data import load"
   ]
  },
  {
   "cell_type": "code",
   "execution_count": null,
   "metadata": {
    "collapsed": true
   },
   "outputs": [],
   "source": [
    "config = tf.ConfigProto()\n",
    "config.gpu_options.allow_growth=True\n",
    "sess = tf.Session(config=config)\n",
    "keras.backend.set_session(sess)"
   ]
  },
  {
   "cell_type": "code",
   "execution_count": null,
   "metadata": {
    "collapsed": true
   },
   "outputs": [],
   "source": [
    "def autoencoder(X_train, X_test):\n",
    "    input_layer = Input(shape=(48,48,3))\n",
    "    \n",
    "    encoder = Flatten()(input_layer)\n",
    "    encoder = Dense(3456, activation='sigmoid')(encoder)\n",
    "    encoder = Dense(1728, activation='sigmoid')(encoder)\n",
    "    \n",
    "    decoder = Dense(3456, activation='sigmoid')(encoder)\n",
    "    decoder = Dense(48*48*3, activation='sigmoid')(decoder)\n",
    "    decoder = Reshape((48,48,3))(decoder)\n",
    "\n",
    "    autoencoder = Model(input_layer, decoder)\n",
    "    opt = keras.optimizers.Adadelta()\n",
    "    autoencoder.compile(optimizer=opt, loss='mean_squared_error')\n",
    "    \n",
    "    autoencoder.fit(X_train, X_train, epochs=200, batch_size=4, validation_split=0.2, callbacks=[ModelCheckpoint('./potato', save_best_only=False, period=10)])\n",
    "    print(autoencoder.evaluate(X_test, X_test))\n",
    "    encoder = Model(input_layer, encoder)\n",
    "    return autoencoder, encoder, input_layer"
   ]
  },
  {
   "cell_type": "code",
   "execution_count": null,
   "metadata": {
    "collapsed": true
   },
   "outputs": [],
   "source": [
    "def downsample(X):\n",
    "    import Image\n",
    "    resized = []\n",
    "    for x in X:\n",
    "        img = Image.fromarray(np.uint8(x * 255))\n",
    "        resized.append(np.asarray(img.resize((48, 48), Image.NEAREST)).astype('float32')/255.0)\n",
    "    return np.array(resized)"
   ]
  },
  {
   "cell_type": "code",
   "execution_count": null,
   "metadata": {
    "collapsed": true
   },
   "outputs": [],
   "source": [
    "def reconstruct_image(vae, images, index=0):\n",
    "    x_test = vae.predict(images)\n",
    "    x_test = np.uint8(x_test * 255)\n",
    "    plot_image = np.concatenate((np.uint8(images[index]*255), x_test[index]), axis=1)\n",
    "    imgplot = plt.imshow(plot_image)"
   ]
  },
  {
   "cell_type": "code",
   "execution_count": null,
   "metadata": {
    "collapsed": true
   },
   "outputs": [],
   "source": [
    "(X_train, Y_train), (X_test, Y_test), cross_val_indices = load()\n",
    "X_train = downsample(X_train) \n",
    "X_test = downsample(X_test)\n",
    "aec, enc, inp = autoencoder(X_train, X_test)\n",
    "\n",
    "aec.save(\"part1_aec\")\n",
    "enc.save(\"part1_enc\")"
   ]
  },
  {
   "cell_type": "code",
   "execution_count": null,
   "metadata": {
    "collapsed": true
   },
   "outputs": [],
   "source": [
    "reconstruct_image(aec, X_test, 0)\n",
    "plt.show()"
   ]
  },
  {
   "cell_type": "code",
   "execution_count": null,
   "metadata": {
    "collapsed": true
   },
   "outputs": [],
   "source": [
    "def make_model_from_enc(inp, enc):\n",
    "    encoder = Dense(864, activation='sigmoid')(enc)\n",
    "    encoder = Dense(432, activation='sigmoid')(encoder)\n",
    "    encoder = Dense(10, activation='softmax')(encoder)\n",
    "    whole_model = Model(inp, encoder)\n",
    "    opt = keras.optimizers.Adadelta()\n",
    "    \n",
    "    whole_model.compile(optimizer=opt, loss='categorical_crossentropy')\n",
    "    whole_model.fit(X_train, Y_train, epochs=100, batch_size=4, validation_split=0.2, callbacks=[ModelCheckpoint('./together', save_best_only=False, period=10)])\n",
    "    print(whole_model.evaluate(X_test, Y_test))\n",
    "    return whole_model"
   ]
  },
  {
   "cell_type": "code",
   "execution_count": null,
   "metadata": {
    "collapsed": true
   },
   "outputs": [],
   "source": [
    "final_model = make_model_from_enc(inp, enc.output)"
   ]
  },
  {
   "cell_type": "code",
   "execution_count": null,
   "metadata": {
    "collapsed": true
   },
   "outputs": [],
   "source": [
    "def plot_classwise(y_test, y_pred, name):\n",
    "    y_test_aho = np.argmax(y_test, axis=1)\n",
    "    y_pred_aho = np.argmax(y_pred, axis=1)\n",
    "    print(classification_report(y_test_aho, y_pred_aho))"
   ]
  },
  {
   "cell_type": "code",
   "execution_count": null,
   "metadata": {
    "collapsed": true
   },
   "outputs": [],
   "source": [
    "plot_classwise(Y_test, final_model.predict(X_test), 'vanilla autoencoder')"
   ]
  },
  {
   "cell_type": "code",
   "execution_count": null,
   "metadata": {
    "collapsed": true
   },
   "outputs": [],
   "source": []
  }
 ],
 "metadata": {
  "kernelspec": {
   "display_name": "Python 2",
   "language": "python",
   "name": "python2"
  },
  "language_info": {
   "codemirror_mode": {
    "name": "ipython",
    "version": 2
   },
   "file_extension": ".py",
   "mimetype": "text/x-python",
   "name": "python",
   "nbconvert_exporter": "python",
   "pygments_lexer": "ipython2",
   "version": "2.7.6"
  }
 },
 "nbformat": 4,
 "nbformat_minor": 2
}
